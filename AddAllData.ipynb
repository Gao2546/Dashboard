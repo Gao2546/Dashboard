{
 "cells": [
  {
   "cell_type": "code",
   "execution_count": 9,
   "metadata": {},
   "outputs": [],
   "source": [
    "import os\n",
    "import pandas\n",
    "\n",
    "path = \"C://Users//Most//Desktop//งานมหาลัยทั้งหมด//ฝึกPython//Project//Dashboard//information\"\n",
    "dir_list = os.listdir(path)\n",
    "\n",
    "month = ['march','april', 'may', 'june', 'july', 'aug', 'sep', 'oct']"
   ]
  },
  {
   "cell_type": "code",
   "execution_count": 11,
   "metadata": {},
   "outputs": [
    {
     "name": "stdout",
     "output_type": "stream",
     "text": [
      "In_march_2562.csv\n",
      "In_april1_2562.csv\n",
      "In_april2_2562.csv\n",
      "In_may1_2562.csv\n",
      "In_may2_2562.csv\n",
      "In_june1_2562.csv\n",
      "In_june2_2562.csv\n",
      "In_july1_2562.csv\n",
      "In_july2_2562.csv\n",
      "In_aug1_2562.csv\n",
      "In_aug2_2562.csv\n",
      "In_sep1_2562.csv\n",
      "In_sep2_2562.csv\n",
      "In_oct1_2562.csv\n",
      "In_oct2_2562.csv\n"
     ]
    }
   ],
   "source": [
    "dataAll = []\n",
    "\n",
    "for m in month:\n",
    "    for dir in dir_list:\n",
    "        if m in dir:\n",
    "            df = pandas.read_csv(f\"information/{dir}\", low_memory= False)\n",
    "            print(dir)\n",
    "            dataAll.append(df)\n",
    "\n",
    "dfAddAll = pandas.concat(dataAll)\n",
    "dfAddAll.to_csv('In_march_to_oct2562.csv')\n",
    "            "
   ]
  }
 ],
 "metadata": {
  "kernelspec": {
   "display_name": "Python 3.10.5 64-bit",
   "language": "python",
   "name": "python3"
  },
  "language_info": {
   "codemirror_mode": {
    "name": "ipython",
    "version": 3
   },
   "file_extension": ".py",
   "mimetype": "text/x-python",
   "name": "python",
   "nbconvert_exporter": "python",
   "pygments_lexer": "ipython3",
   "version": "3.10.5"
  },
  "orig_nbformat": 4,
  "vscode": {
   "interpreter": {
    "hash": "12d49585e4cc67046cc273fb341da31db08825eb9bc74df56bad535c2dbd1450"
   }
  }
 },
 "nbformat": 4,
 "nbformat_minor": 2
}

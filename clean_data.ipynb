{
 "cells": [
  {
   "cell_type": "code",
   "execution_count": 13,
   "metadata": {},
   "outputs": [],
   "source": [
    "import os\n",
    "import pandas \n",
    "\n",
    "path = \"C://Users//Most//Desktop//งานมหาลัยทั้งหมด//ฝึกPython//Project//Dashboard//information\"\n",
    "dir_list = os.listdir(path)\n",
    "\n",
    "month = ['march','april', 'may', 'june', 'july', 'aug', 'sep', 'oct']"
   ]
  },
  {
   "cell_type": "code",
   "execution_count": 15,
   "metadata": {},
   "outputs": [
    {
     "name": "stderr",
     "output_type": "stream",
     "text": [
      "C:\\Users\\Most\\AppData\\Local\\Temp\\ipykernel_18584\\3960481991.py:4: DtypeWarning: Columns (8) have mixed types. Specify dtype option on import or set low_memory=False.\n",
      "  df = pandas.read_csv(f\"information/{dir}\")\n",
      "C:\\Users\\Most\\AppData\\Local\\Temp\\ipykernel_18584\\3960481991.py:4: DtypeWarning: Columns (8) have mixed types. Specify dtype option on import or set low_memory=False.\n",
      "  df = pandas.read_csv(f\"information/{dir}\")\n"
     ]
    }
   ],
   "source": [
    "for m in month:\n",
    "    for dir in dir_list:\n",
    "        if m in dir:\n",
    "            df = pandas.read_csv(f\"information/{dir}\")\n",
    "            df['month'] = m\n",
    "            df.to_csv(f\"information/{dir}\")\n"
   ]
  }
 ],
 "metadata": {
  "kernelspec": {
   "display_name": "Python 3.10.5 64-bit",
   "language": "python",
   "name": "python3"
  },
  "language_info": {
   "codemirror_mode": {
    "name": "ipython",
    "version": 3
   },
   "file_extension": ".py",
   "mimetype": "text/x-python",
   "name": "python",
   "nbconvert_exporter": "python",
   "pygments_lexer": "ipython3",
   "version": "3.10.5"
  },
  "orig_nbformat": 4,
  "vscode": {
   "interpreter": {
    "hash": "12d49585e4cc67046cc273fb341da31db08825eb9bc74df56bad535c2dbd1450"
   }
  }
 },
 "nbformat": 4,
 "nbformat_minor": 2
}
